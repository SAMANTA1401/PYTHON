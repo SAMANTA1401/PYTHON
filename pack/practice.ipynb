{
 "cells": [
  {
   "cell_type": "code",
   "execution_count": 2,
   "metadata": {},
   "outputs": [],
   "source": [
    "# testing bubble sort vs. insertion sort\n",
    "def bubbleSort(aList):\n",
    "    for i in range( len(aList) ):\n",
    "        switched = False # it is used to check if list is already sorted or not \n",
    "        for j in range( len(aList)-1 ):\n",
    "            if aList[ j ] > aList[ j + 1 ]:\n",
    "                aList[ j ], aList[ j + 1 ] = aList[ j + 1 ], aList[ j ]\n",
    "                switched = True\n",
    "        if switched == False: # if it is false that means it is already sorted\n",
    "            break\n",
    "    return aList"
   ]
  },
  {
   "cell_type": "code",
   "execution_count": 3,
   "metadata": {},
   "outputs": [],
   "source": [
    "def insertionSort(aList):\n",
    "    for i in range( 1, len(aList) ):\n",
    "        if aList[ i ] < aList[ i - 1 ]:\n",
    "            for j in range( i, 0, -1 ):\n",
    "                if aList[ j ] < aList[ j - 1 ]:\n",
    "                     aList[ j ], aList[ j + 1 ] = aList [ j + 1 ], aList[ j ]\n",
    "                else:\n",
    "                     break\n",
    "    return aList"
   ]
  },
  {
   "cell_type": "code",
   "execution_count": 4,
   "metadata": {},
   "outputs": [
    {
     "name": "stdout",
     "output_type": "stream",
     "text": [
      "[69, 80, 80, 76, 78, 58, 63, 1, 71, 87, 98, 76, 44, 24, 64, 73, 37, 37, 59, 41, 38, 13, 69, 17, 34, 25, 100, 2, 19, 43, 77, 39, 2, 88, 10, 77, 75, 59, 87, 15, 100, 22, 22, 78, 42, 5, 73, 23, 68, 74]\n"
     ]
    }
   ],
   "source": [
    "# calling bubble sort and insertino sort to test time complexity\n",
    "from random import randint\n",
    "import time\n",
    "\n",
    "nums = [ randint(0, 100) for x in range(50) ] # list comprehension\n",
    "\n",
    "print(nums)\n"
   ]
  },
  {
   "cell_type": "code",
   "execution_count": 6,
   "metadata": {},
   "outputs": [
    {
     "name": "stdout",
     "output_type": "stream",
     "text": [
      "[1, 2, 2, 5, 10, 13, 15, 17, 19, 22, 22, 23, 24, 25, 34, 37, 37, 38, 39, 41, 42, 43, 44, 58, 59, 59, 63, 64, 68, 69, 69, 71, 73, 73, 74, 75, 76, 76, 77, 77, 78, 78, 80, 80, 87, 87, 88, 98, 100, 100]\n",
      "0.0\n"
     ]
    }
   ],
   "source": [
    "start_time = time.time( ) # tracking time bubble sort\n",
    "# print(start_time)\n",
    "sort_list = bubbleSort(nums)\n",
    "print(sort_list)\n",
    "end_time = time.time( ) - start_time\n",
    "print(end_time)\n",
    "# print( \"Elapsed time for Bubble Sort: { }\".format(end_time) )"
   ]
  },
  {
   "cell_type": "code",
   "execution_count": 8,
   "metadata": {},
   "outputs": [
    {
     "name": "stdout",
     "output_type": "stream",
     "text": [
      "[1, 2, 2, 5, 10, 13, 15, 17, 19, 22, 22, 23, 24, 25, 34, 37, 37, 38, 39, 41, 42, 43, 44, 58, 59, 59, 63, 64, 68, 69, 69, 71, 73, 73, 74, 75, 76, 76, 77, 77, 78, 78, 80, 80, 87, 87, 88, 98, 100, 100]\n",
      "0.001531839370727539\n"
     ]
    }
   ],
   "source": [
    "start_time = time.time( ) # tracking time insertion sort\n",
    "sort_list1 =insertionSort(nums)\n",
    "print(sort_list1)\n",
    "end_time = time.time( ) - start_time\n",
    "print(end_time)\n",
    "# print( \"Elapsed time for Insertion Sort: { }\".format(end_time) )"
   ]
  },
  {
   "cell_type": "code",
   "execution_count": 10,
   "metadata": {},
   "outputs": [],
   "source": [
    "# creating data collections to test for time complexity\n",
    "import time\n",
    "\n",
    "d = { } # generate fake dictionary\n",
    "for i in range(100):\n",
    "    d[ i ] = \"value\"\n",
    "big_list = [ x for x in range(100) ] # generate fake list"
   ]
  },
  {
   "cell_type": "code",
   "execution_count": 12,
   "metadata": {},
   "outputs": [
    {
     "name": "stdout",
     "output_type": "stream",
     "text": [
      "Found in dictionary\n",
      "Elapsed time for dictionary: 0.0\n",
      "Found in list\n",
      "Elapsed time for list: 0.0\n"
     ]
    }
   ],
   "source": [
    "# retrieving information and tracking time to see which is faster\n",
    "start_time = time.time( ) # tracking time for dictionary\n",
    "if 99 in d:\n",
    "    print(\"Found in dictionary\")\n",
    "end_time = time.time( ) - start_time\n",
    "print( f\"Elapsed time for dictionary: {end_time }\" )\n",
    "start_time = time.time( ) # tracking time for list\n",
    "if 99 in big_list:\n",
    "    print(\"Found in list\")\n",
    "end_time = time.time( ) - start_time\n",
    "print( f\"Elapsed time for list: {end_time}\" )"
   ]
  },
  {
   "cell_type": "code",
   "execution_count": 13,
   "metadata": {},
   "outputs": [
    {
     "name": "stdout",
     "output_type": "stream",
     "text": [
      "-1913453330630604798 -1913453330630604798 -2080512288968498008\n"
     ]
    }
   ],
   "source": [
    "a, c = 'bo', \"bob\"\n",
    "b = a\n",
    "print(hash(a), hash(b), hash(c))"
   ]
  },
  {
   "cell_type": "code",
   "execution_count": null,
   "metadata": {},
   "outputs": [],
   "source": []
  }
 ],
 "metadata": {
  "kernelspec": {
   "display_name": "Python 3",
   "language": "python",
   "name": "python3"
  },
  "language_info": {
   "codemirror_mode": {
    "name": "ipython",
    "version": 3
   },
   "file_extension": ".py",
   "mimetype": "text/x-python",
   "name": "python",
   "nbconvert_exporter": "python",
   "pygments_lexer": "ipython3",
   "version": "3.11.0"
  }
 },
 "nbformat": 4,
 "nbformat_minor": 2
}
