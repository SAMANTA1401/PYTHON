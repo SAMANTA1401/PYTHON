{
 "cells": [
  {
   "cell_type": "code",
   "execution_count": 1,
   "metadata": {},
   "outputs": [
    {
     "name": "stdout",
     "output_type": "stream",
     "text": [
      "2024-03-31 15:24:09.269216\n"
     ]
    }
   ],
   "source": [
    "import datetime\n",
    "print(datetime.datetime.now())"
   ]
  },
  {
   "cell_type": "code",
   "execution_count": 2,
   "metadata": {},
   "outputs": [
    {
     "name": "stdout",
     "output_type": "stream",
     "text": [
      "15:24:32.086595\n"
     ]
    }
   ],
   "source": [
    "#for time only\n",
    "print(datetime.datetime.now().time())"
   ]
  },
  {
   "cell_type": "code",
   "execution_count": 3,
   "metadata": {},
   "outputs": [
    {
     "name": "stdout",
     "output_type": "stream",
     "text": [
      "2020-02-25 04:20:00\n"
     ]
    }
   ],
   "source": [
    "#sring into datetime\n",
    "from datetime import datetime, timedelta\n",
    "\n",
    "date_string = \"Feb 25 2020  4:20PM\"\n",
    "date_time_obj=datetime.strptime(date_string,'%b %d %Y %H:%M%p')\n",
    "print(date_time_obj)"
   ]
  },
  {
   "cell_type": "code",
   "execution_count": 4,
   "metadata": {},
   "outputs": [
    {
     "name": "stdout",
     "output_type": "stream",
     "text": [
      "2020-02-25 04:20:00\n"
     ]
    }
   ],
   "source": [
    "print(date_time_obj)"
   ]
  },
  {
   "cell_type": "code",
   "execution_count": 6,
   "metadata": {},
   "outputs": [
    {
     "name": "stdout",
     "output_type": "stream",
     "text": [
      "2020-02-25 00:00:00\n"
     ]
    }
   ],
   "source": [
    "# : Subtract a week (7 days) from a given date in Python\n",
    "given_date=datetime(2020,2,25)\n",
    "print(given_date)\n"
   ]
  },
  {
   "cell_type": "code",
   "execution_count": 7,
   "metadata": {},
   "outputs": [
    {
     "name": "stdout",
     "output_type": "stream",
     "text": [
      "2020-02-18 00:00:00\n"
     ]
    }
   ],
   "source": [
    "from datetime import timedelta\n",
    "days_to_substract=7\n",
    "res_date=given_date-timedelta(days_to_substract)\n",
    "\n",
    "print(res_date)"
   ]
  },
  {
   "cell_type": "code",
   "execution_count": 8,
   "metadata": {},
   "outputs": [
    {
     "data": {
      "text/plain": [
       "'Tuesday 25 Feb 2020'"
      ]
     },
     "execution_count": 8,
     "metadata": {},
     "output_type": "execute_result"
    }
   ],
   "source": [
    "#  Print a date in a the following format time to string\n",
    "\n",
    "given_date.strftime(\"%A %d %b %Y\")"
   ]
  },
  {
   "cell_type": "code",
   "execution_count": 11,
   "metadata": {},
   "outputs": [
    {
     "data": {
      "text/plain": [
       "'Tuesday'"
      ]
     },
     "execution_count": 11,
     "metadata": {},
     "output_type": "execute_result"
    }
   ],
   "source": [
    "#  Find the day of the week of a given date\n",
    "given_date = datetime(1997,1,14)\n",
    "given_date.strftime(\"%A\")"
   ]
  },
  {
   "cell_type": "code",
   "execution_count": 15,
   "metadata": {},
   "outputs": [
    {
     "name": "stdout",
     "output_type": "stream",
     "text": [
      "2020-03-29 22:00:00\n"
     ]
    }
   ],
   "source": [
    "# Add a week (7 days) and 12 hours to a given date\n",
    "#2020-03-22 10:00:00\n",
    "from datetime import timedelta\n",
    "given_date = datetime(2020,3,22,10,0,0)\n",
    "days_to_add = 7\n",
    "res_date = given_date + timedelta(days=days_to_add, hours=12)\n",
    "\n",
    "print(res_date)"
   ]
  },
  {
   "cell_type": "code",
   "execution_count": 19,
   "metadata": {},
   "outputs": [
    {
     "name": "stdout",
     "output_type": "stream",
     "text": [
      "1711879928.443707\n",
      "1711879928444\n"
     ]
    }
   ],
   "source": [
    "# Print current time in milliseconds\n",
    "import time\n",
    "print(time.time())\n",
    "milliseconds = int(round(time.time()*1000))\n",
    "print(milliseconds)"
   ]
  },
  {
   "cell_type": "code",
   "execution_count": 20,
   "metadata": {},
   "outputs": [
    {
     "name": "stdout",
     "output_type": "stream",
     "text": [
      "2020-02-25 00:00:00\n"
     ]
    }
   ],
   "source": [
    "# Convert the following datetime into a string\n",
    "given_date = datetime(2020, 2, 25)\n",
    "string_date=given_date.strftime(\"%Y-%m-%d %H:%M:%S\")\n",
    "\n",
    "print(string_date)\n"
   ]
  },
  {
   "cell_type": "code",
   "execution_count": 21,
   "metadata": {},
   "outputs": [
    {
     "name": "stdout",
     "output_type": "stream",
     "text": [
      "2020-06-25\n"
     ]
    }
   ],
   "source": [
    "# : Calculate the date 4 months from the current date\n",
    "from dateutil.relativedelta import relativedelta\n",
    "\n",
    "given_date = datetime(2020,2,25).date()\n",
    "months_to_add=4\n",
    "result_date=given_date+relativedelta(months=months_to_add)\n",
    "print(result_date)"
   ]
  },
  {
   "cell_type": "code",
   "execution_count": 3,
   "metadata": {},
   "outputs": [
    {
     "name": "stdout",
     "output_type": "stream",
     "text": [
      "Difference of the days will be: \n",
      " 205\n"
     ]
    }
   ],
   "source": [
    "# Calculate number of days between two given dates\n",
    "# 2020-02-25\n",
    "from datetime import datetime\n",
    "\n",
    "date_1 = datetime(2020, 2, 25).date()\n",
    "# 2020-09-17\n",
    "date_2 = datetime(2020, 9, 17).date()\n",
    "\n",
    "delta=None\n",
    "\n",
    "if date_1>date_2:\n",
    " delta=date_1-date_2\n",
    " \n",
    "else:\n",
    " delta=date_2-date_1\n",
    " \n",
    "print(\"Difference of the days will be: \\n\",delta.days)"
   ]
  }
 ],
 "metadata": {
  "kernelspec": {
   "display_name": "base",
   "language": "python",
   "name": "python3"
  },
  "language_info": {
   "codemirror_mode": {
    "name": "ipython",
    "version": 3
   },
   "file_extension": ".py",
   "mimetype": "text/x-python",
   "name": "python",
   "nbconvert_exporter": "python",
   "pygments_lexer": "ipython3",
   "version": "3.11.5"
  }
 },
 "nbformat": 4,
 "nbformat_minor": 2
}
